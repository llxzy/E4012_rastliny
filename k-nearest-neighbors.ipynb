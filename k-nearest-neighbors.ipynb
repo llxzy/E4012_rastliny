{
 "cells": [
  {
   "cell_type": "code",
   "execution_count": 2,
   "metadata": {},
   "outputs": [
    {
     "name": "stderr",
     "output_type": "stream",
     "text": [
      "C:\\Users\\h337\\AppData\\Local\\Temp/ipykernel_12920/2839327871.py:5: DtypeWarning: Columns (6,8,10,11,12,16,17,19,20,23,24,25,27,29,33,34,36,38,39,40,41,42,43,44,48,49,50,53,54,55,56,58,59,60,61,63,64,65,68,69,73,74,75,76,79,81,82,83,84,85,86,88,89,90,91,92,93,94,95) have mixed types. Specify dtype option on import or set low_memory=False.\n",
      "  data = pd.read_csv('All_N_rex 5 nm SR 895.csv', sep = ';', header = 0)\n",
      "C:\\Users\\h337\\AppData\\Local\\Temp/ipykernel_12920/2839327871.py:47: FutureWarning: In a future version, `df.iloc[:, i] = newvals` will attempt to set the values inplace instead of always setting a new array. To retain the old behavior, use either `df[df.columns[i]] = newvals` or, if columns are non-unique, `df.isetitem(i, newvals)`\n",
      "  df.loc[:,df.columns[i]] = df.loc[:,df.columns[i]].astype(float)\n"
     ]
    }
   ],
   "source": [
    "# načtení dat\n",
    "import pandas as pd\n",
    "\n",
    "# reading the CSV file\n",
    "data = pd.read_csv('All_N_rex 5 nm SR 895.csv', sep = ';', header = 0)\n",
    "df = pd.DataFrame(data)\n",
    "\n",
    "# vyber kompletnich\n",
    "df.dropna(axis = 0, how = 'any', inplace = True)\n",
    "\n",
    "# ulozim si labely abych je pak mohla nalepit\n",
    "ROI = df.loc[:,\"ROI name\"]\n",
    "\n",
    "# odstranim ty popisky\n",
    "df= df.drop(columns = ['ROI name'])\n",
    "\n",
    "# pruzkum sloupcu - ktere jsou vadne\n",
    "\"\"\"for i in range(df.shape[1]):\n",
    "    try:\n",
    "        df.loc[:,df.columns[i]].astype(float)\n",
    "    except ValueError as ve:\n",
    "        print(df.columns[i])\n",
    " skoro vsechny - podivala jsem se v R u nekterych techu jsou tady hodnoty I.97... asi jsou to chybné values, vyhodim je, pak se zeptam Renci\"\"\"\n",
    "\n",
    " # pruzkum radku - ktere jsou vadne\n",
    "bad_row = []\n",
    "bad_row_counter = 0\n",
    "for i in range(df.shape[0]):\n",
    "    try:\n",
    "        df.loc[i,:].astype(float)\n",
    "    except ValueError as ve:\n",
    "        bad_row_counter += 1\n",
    "        bad_row.append(i)\n",
    "\n",
    "\"\"\"86 radku obsahuje tady tuto chybu => vyhodim tyto radky (overime pak, jestli muzu)\"\"\"\n",
    "\n",
    "# prilepit zpatky ROI\n",
    "\n",
    "df['ROI'] = ROI\n",
    "\n",
    "# odhodit radky kde je divnotyp\n",
    "df = df.drop(bad_row)\n",
    "\n",
    "# pretypovat\n",
    "for i in range(3,97):\n",
    "    try:\n",
    "        df.loc[:,df.columns[i]] = df.loc[:,df.columns[i]].astype(float)\n",
    "    except ValueError as ve:\n",
    "        print(df.columns[i])\n",
    "\n",
    "# rozdelit na barvicky\n",
    "blue = df.loc[df['ROI'] == 'blue']\n",
    "green = df.loc[df['ROI'] == 'green']\n",
    "dry = df.loc[df['ROI'] == 'dry']\n",
    "tech = df.loc[df['ROI'] == 'tech']\n",
    "soil = df.loc[df['ROI'] == 'soil']\n",
    "\n",
    "blue= blue.drop(columns = ['ROI'])\n",
    "dry= dry.drop(columns = ['ROI'])\n",
    "green= green.drop(columns = ['ROI'])\n",
    "tech= tech.drop(columns = ['ROI'])\n",
    "soil= soil.drop(columns = ['ROI'])"
   ]
  },
  {
   "cell_type": "code",
   "execution_count": 3,
   "metadata": {},
   "outputs": [
    {
     "name": "stdout",
     "output_type": "stream",
     "text": [
      "0.9758902371322071\n"
     ]
    }
   ],
   "source": [
    "from sklearn.neighbors import KNeighborsClassifier\n",
    "from sklearn.model_selection import train_test_split\n",
    "import numpy as np\n",
    "import matplotlib.pyplot as plt\n",
    "\n",
    "output = df['ROI']\n",
    "input = df.loc[:, ~df.columns.isin(['Tray', 'ROI'])]\n",
    "\n",
    "X_train, X_test, y_train, y_test = train_test_split(input, output, test_size = 0.3, random_state=42)\n",
    "\n",
    "knn = KNeighborsClassifier(n_neighbors=7)\n",
    "  \n",
    "knn.fit(X_train, y_train)\n",
    "  \n",
    "# Calculate the accuracy of the model\n",
    "print(knn.score(X_test, y_test))"
   ]
  },
  {
   "cell_type": "code",
   "execution_count": 6,
   "metadata": {},
   "outputs": [
    {
     "data": {
      "image/png": "[encoded data removed]",
      "text/plain": [
       "<Figure size 432x288 with 1 Axes>"
      ]
     },
     "metadata": {
      "needs_background": "light"
     },
     "output_type": "display_data"
    }
   ],
   "source": [
    "neighbors = np.arange(1, 20)\n",
    "train_accuracy = np.empty(len(neighbors))\n",
    "test_accuracy = np.empty(len(neighbors))\n",
    "  \n",
    "# Loop over K values\n",
    "for i, k in enumerate(neighbors):\n",
    "    knn = KNeighborsClassifier(n_neighbors=k)\n",
    "    knn.fit(X_train, y_train)\n",
    "      \n",
    "    # Compute training and test data accuracy\n",
    "    train_accuracy[i] = knn.score(X_train, y_train)\n",
    "    test_accuracy[i] = knn.score(X_test, y_test)\n",
    "\n",
    "fig, ax = plt.subplots()  \n",
    "# Generate plot\n",
    "plt.plot(neighbors, test_accuracy, label = 'Testing dataset Accuracy')\n",
    "plt.plot(neighbors, train_accuracy, label = 'Training dataset Accuracy')\n",
    "  \n",
    "plt.legend()\n",
    "plt.xlabel('n_neighbors')\n",
    "plt.ylabel('Accuracy')\n",
    "plt.show()\n",
    "fig.savefig('KNN.png', facecolor='w') # uložení"
   ]
  }
 ],
 "metadata": {
  "kernelspec": {
   "display_name": "Python 3.9.7 64-bit",
   "language": "python",
   "name": "python3"
  },
  "language_info": {
   "codemirror_mode": {
    "name": "ipython",
    "version": 3
   },
   "file_extension": ".py",
   "mimetype": "text/x-python",
   "name": "python",
   "nbconvert_exporter": "python",
   "pygments_lexer": "ipython3",
   "version": "3.9.7"
  },
  "orig_nbformat": 4,
  "vscode": {
   "interpreter": {
    "hash": "507f6de8b01e3c7121666f7a2099dbd2f3f361c174152a34790d4dc36833fd74"
   }
  }
 },
 "nbformat": 4,
 "nbformat_minor": 2
}
