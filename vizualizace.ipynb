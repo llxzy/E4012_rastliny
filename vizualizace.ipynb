{
 "cells": [
  {
   "cell_type": "code",
   "execution_count": 84,
   "id": "40312599",
   "metadata": {},
   "outputs": [
    {
     "name": "stderr",
     "output_type": "stream",
     "text": [
      "C:\\Users\\h337\\AppData\\Local\\Temp/ipykernel_27384/3137363078.py:4: DtypeWarning: Columns (6,8,10,11,12,16,17,19,20,23,24,25,27,29,33,34,36,38,39,40,41,42,43,44,48,49,50,53,54,55,56,58,59,60,61,63,64,65,68,69,73,74,75,76,79,81,82,83,84,85,86,88,89,90,91,92,93,94,95) have mixed types. Specify dtype option on import or set low_memory=False.\n",
      "  data = pd.read_csv('All_N_rex 5 nm SR 895.csv', sep = ';', header = 0)\n",
      "C:\\Users\\h337\\AppData\\Local\\Temp/ipykernel_27384/3137363078.py:46: FutureWarning: In a future version, `df.iloc[:, i] = newvals` will attempt to set the values inplace instead of always setting a new array. To retain the old behavior, use either `df[df.columns[i]] = newvals` or, if columns are non-unique, `df.isetitem(i, newvals)`\n",
      "  df.loc[:,df.columns[i]] = df.loc[:,df.columns[i]].astype(float)\n"
     ]
    }
   ],
   "source": [
    "import pandas as pd\n",
    "\n",
    "# reading the CSV file\n",
    "data = pd.read_csv('All_N_rex 5 nm SR 895.csv', sep = ';', header = 0)\n",
    "df = pd.DataFrame(data)\n",
    "\n",
    "# vyber kompletnich\n",
    "df.dropna(axis = 0, how = 'any', inplace = True)\n",
    "\n",
    "# ulozim si labely abych je pak mohla nalepit\n",
    "ROI = df.loc[:,\"ROI name\"]\n",
    "\n",
    "# odstranim ty popisky\n",
    "df= df.drop(columns = ['ROI name'])\n",
    "\n",
    "# pruzkum sloupcu - ktere jsou vadne\n",
    "\"\"\"for i in range(df.shape[1]):\n",
    "    try:\n",
    "        df.loc[:,df.columns[i]].astype(float)\n",
    "    except ValueError as ve:\n",
    "        print(df.columns[i])\n",
    " skoro vsechny - podivala jsem se v R u nekterych techu jsou tady hodnoty I.97... asi jsou to chybné values, vyhodim je, pak se zeptam Renci\"\"\"\n",
    "\n",
    " # pruzkum radku - ktere jsou vadne\n",
    "bad_row = []\n",
    "bad_row_counter = 0\n",
    "for i in range(df.shape[0]):\n",
    "    try:\n",
    "        df.loc[i,:].astype(float)\n",
    "    except ValueError as ve:\n",
    "        bad_row_counter += 1\n",
    "        bad_row.append(i)\n",
    "\n",
    "\"\"\"86 radku obsahuje tady tuto chybu => vyhodim tyto radky (overime pak, jestli muzu)\"\"\"\n",
    "\n",
    "# prilepit zpatky ROI\n",
    "\n",
    "df['ROI'] = ROI\n",
    "\n",
    "# odhodit radky kde je divnotyp\n",
    "df = df.drop(bad_row)\n",
    "\n",
    "# pretypovat\n",
    "for i in range(3,97):\n",
    "    try:\n",
    "        df.loc[:,df.columns[i]] = df.loc[:,df.columns[i]].astype(float)\n",
    "    except ValueError as ve:\n",
    "        print(df.columns[i])\n",
    "\n",
    "# rozdelit na barvicky\n",
    "blue = df.loc[df['ROI'] == 'blue']\n",
    "green = df.loc[df['ROI'] == 'green']\n",
    "dry = df.loc[df['ROI'] == 'dry']\n",
    "tech = df.loc[df['ROI'] == 'tech']\n",
    "soil = df.loc[df['ROI'] == 'soil']"
   ]
  },
  {
   "cell_type": "code",
   "execution_count": 14,
   "id": "96a3b98e",
   "metadata": {},
   "outputs": [],
   "source": [
    "# no a ted grafik....\n",
    "####> DRY - vykreslení spekter všech #####\n",
    "x11()\n",
    "plot(x = xlabs, y = dry[1, 5:length(names(dt)) ], type = \"l\", col = alpha(\"goldenrod1\",0.015),\n",
    "     xlab = 'Vlnová délka [nm]', ylab = 'Intenzita')\n",
    "for (i in 2:length(dry$Tray)){  \n",
    "  lines(x = xlabs, y = dry[i, 5:length(names(dt))], col = alpha(\"goldenrod1\", 0.015))\n",
    "}\n",
    "\n",
    "#>> Medián křivka #\n",
    "med <- c()\n",
    "for (i in 5:length(names(dt))){\n",
    "  med[i-4] <- median(dry[,i])\n",
    "}\n",
    "med\n",
    "# vykreslit\n",
    "lines(x = xlabs, y = med, col = 'darkgoldenrod3', lwd = 2 )\"\"\"\n",
    "\n"
   ]
  },
  {
   "cell_type": "code",
   "execution_count": 86,
   "id": "75b95ea7",
   "metadata": {},
   "outputs": [
    {
     "data": {
      "text/plain": [
       "[0.502162317,\n",
       " 0.554445678,\n",
       " 0.610840698,\n",
       " 0.649735171,\n",
       " 0.675518536,\n",
       " 0.67862068,\n",
       " 0.681241952,\n",
       " 0.678911654,\n",
       " 0.671666449,\n",
       " 0.650447864,\n",
       " 0.629803082,\n",
       " 0.60494884,\n",
       " 0.574069955,\n",
       " 0.552096732,\n",
       " 0.520876877,\n",
       " 0.489794436,\n",
       " 0.46079173,\n",
       " 0.422435921,\n",
       " 0.396030836,\n",
       " 0.370839423,\n",
       " 0.345151543,\n",
       " 0.328307719,\n",
       " 0.311063641,\n",
       " 0.300194013,\n",
       " 0.291568826,\n",
       " 0.282205675,\n",
       " 0.276420416,\n",
       " 0.272642501,\n",
       " 0.268919327,\n",
       " 0.267289696,\n",
       " 0.265996951,\n",
       " 0.264889331,\n",
       " 0.26508173,\n",
       " 0.264620838,\n",
       " 0.264590965,\n",
       " 0.264936362,\n",
       " 0.265176276,\n",
       " 0.266345023,\n",
       " 0.26768206,\n",
       " 0.268256522,\n",
       " 0.268983479,\n",
       " 0.270540828,\n",
       " 0.271517454,\n",
       " 0.272062479,\n",
       " 0.273839684,\n",
       " 0.274965357,\n",
       " 0.276200944,\n",
       " 0.276459976,\n",
       " 0.276004509,\n",
       " 0.275904937,\n",
       " 0.276051962,\n",
       " 0.276157534,\n",
       " 0.276337168,\n",
       " 0.276246601,\n",
       " 0.277331137,\n",
       " 0.279163673,\n",
       " 0.281870926,\n",
       " 0.286565368,\n",
       " 0.291513442,\n",
       " 0.296972336,\n",
       " 0.303796604,\n",
       " 0.310579705,\n",
       " 0.32242084,\n",
       " 0.337212468,\n",
       " 0.366124436,\n",
       " 0.404662638,\n",
       " 0.460047038,\n",
       " 0.551156816,\n",
       " 0.629367617,\n",
       " 0.706185055,\n",
       " 0.790800559,\n",
       " 0.843803999,\n",
       " 0.893565517,\n",
       " 0.923203977,\n",
       " 0.946144875,\n",
       " 0.970253125,\n",
       " 0.984466822,\n",
       " 1.000656042,\n",
       " 1.016967195,\n",
       " 1.027509479,\n",
       " 1.034922697,\n",
       " 1.039584719,\n",
       " 1.039818248,\n",
       " 1.040486883,\n",
       " 1.038705738,\n",
       " 1.03555882,\n",
       " 1.030147298,\n",
       " 1.02913392,\n",
       " 1.025709031,\n",
       " 1.022014049,\n",
       " 1.0191462,\n",
       " 1.013190779,\n",
       " 1.008762565,\n",
       " 1.0]"
      ]
     },
     "execution_count": 86,
     "metadata": {},
     "output_type": "execute_result"
    }
   ],
   "source": [
    "# MODRA SPEKTRA\n",
    "import statistics as stat\n",
    "xlabs = blue.columns[3:97]\n",
    "med = []\n",
    "for i in range(xlabs.size):\n",
    "    med.append(stat.median(blue.loc[:,xlabs[i]]))\n",
    "med\n",
    "  \n",
    "\n",
    "\n"
   ]
  },
  {
   "cell_type": "code",
   "execution_count": 106,
   "id": "bca87618",
   "metadata": {},
   "outputs": [
    {
     "data": {
      "text/html": [
       "<div>\n",
       "<style scoped>\n",
       "    .dataframe tbody tr th:only-of-type {\n",
       "        vertical-align: middle;\n",
       "    }\n",
       "\n",
       "    .dataframe tbody tr th {\n",
       "        vertical-align: top;\n",
       "    }\n",
       "\n",
       "    .dataframe thead th {\n",
       "        text-align: right;\n",
       "    }\n",
       "</style>\n",
       "<table border=\"1\" class=\"dataframe\">\n",
       "  <thead>\n",
       "    <tr style=\"text-align: right;\">\n",
       "      <th></th>\n",
       "      <th>xlabs</th>\n",
       "      <th>med</th>\n",
       "    </tr>\n",
       "  </thead>\n",
       "  <tbody>\n",
       "    <tr>\n",
       "      <th>0</th>\n",
       "      <td>430</td>\n",
       "      <td>0.502162</td>\n",
       "    </tr>\n",
       "    <tr>\n",
       "      <th>1</th>\n",
       "      <td>435</td>\n",
       "      <td>0.554446</td>\n",
       "    </tr>\n",
       "    <tr>\n",
       "      <th>2</th>\n",
       "      <td>440</td>\n",
       "      <td>0.610841</td>\n",
       "    </tr>\n",
       "    <tr>\n",
       "      <th>3</th>\n",
       "      <td>445</td>\n",
       "      <td>0.649735</td>\n",
       "    </tr>\n",
       "    <tr>\n",
       "      <th>4</th>\n",
       "      <td>450</td>\n",
       "      <td>0.675519</td>\n",
       "    </tr>\n",
       "    <tr>\n",
       "      <th>...</th>\n",
       "      <td>...</td>\n",
       "      <td>...</td>\n",
       "    </tr>\n",
       "    <tr>\n",
       "      <th>89</th>\n",
       "      <td>875</td>\n",
       "      <td>1.022014</td>\n",
       "    </tr>\n",
       "    <tr>\n",
       "      <th>90</th>\n",
       "      <td>880</td>\n",
       "      <td>1.019146</td>\n",
       "    </tr>\n",
       "    <tr>\n",
       "      <th>91</th>\n",
       "      <td>885</td>\n",
       "      <td>1.013191</td>\n",
       "    </tr>\n",
       "    <tr>\n",
       "      <th>92</th>\n",
       "      <td>890</td>\n",
       "      <td>1.008763</td>\n",
       "    </tr>\n",
       "    <tr>\n",
       "      <th>93</th>\n",
       "      <td>895</td>\n",
       "      <td>1.000000</td>\n",
       "    </tr>\n",
       "  </tbody>\n",
       "</table>\n",
       "<p>94 rows × 2 columns</p>\n",
       "</div>"
      ],
      "text/plain": [
       "   xlabs       med\n",
       "0    430  0.502162\n",
       "1    435  0.554446\n",
       "2    440  0.610841\n",
       "3    445  0.649735\n",
       "4    450  0.675519\n",
       "..   ...       ...\n",
       "89   875  1.022014\n",
       "90   880  1.019146\n",
       "91   885  1.013191\n",
       "92   890  1.008763\n",
       "93   895  1.000000\n",
       "\n",
       "[94 rows x 2 columns]"
      ]
     },
     "execution_count": 106,
     "metadata": {},
     "output_type": "execute_result"
    }
   ],
   "source": [
    "blugr = pd.DataFrame(xlabs)\n",
    "blugr.columns = ['xlabs']\n",
    "blugr['med'] = med\n",
    "blugr"
   ]
  },
  {
   "cell_type": "code",
   "execution_count": 113,
   "id": "a79365be",
   "metadata": {},
   "outputs": [
    {
     "data": {
      "image/png": "[encoded data removed]",
      "text/plain": [
       "<Figure size 640x480 with 1 Axes>"
      ]
     },
     "metadata": {},
     "output_type": "display_data"
    },
    {
     "data": {
      "text/plain": [
       "<ggplot: (134286678541)>"
      ]
     },
     "execution_count": 113,
     "metadata": {},
     "output_type": "execute_result"
    }
   ],
   "source": [
    "from plotnine import ggplot, aes, geom_line\n",
    "\n",
    "(\n",
    "    ggplot(blugr)  # What data to use \n",
    "    + aes(x='xlabs', y='med', group = 1) # What variable to use\n",
    "    + geom_line()  # Geometric object to use for drawing\n",
    ")\n"
   ]
  },
  {
   "cell_type": "code",
   "execution_count": 49,
   "id": "59fc6332",
   "metadata": {},
   "outputs": [
    {
     "name": "stdout",
     "output_type": "stream",
     "text": [
      "ROI\n"
     ]
    }
   ],
   "source": [
    "for i in range(blue.shape[1]):\n",
    "    try:\n",
    "        blue.loc[:,blue.columns[i]].astype(float)\n",
    "    except ValueError as ve:\n",
    "        print(blue.columns[i])\n"
   ]
  },
  {
   "cell_type": "code",
   "execution_count": 74,
   "id": "1882adf3",
   "metadata": {},
   "outputs": [
    {
     "name": "stdout",
     "output_type": "stream",
     "text": [
      "ROI\n"
     ]
    }
   ],
   "source": [
    "for i in range(df.shape[1]):\n",
    "    try:\n",
    "        df.loc[:,df.columns[i]].astype(float)\n",
    "    except ValueError as ve:\n",
    "        print(df.columns[i])"
   ]
  },
  {
   "cell_type": "code",
   "execution_count": 79,
   "id": "8df22483",
   "metadata": {},
   "outputs": [
    {
     "data": {
      "text/plain": [
       "Tray        int64\n",
       "File X      int64\n",
       "File Y      int64\n",
       "430       float64\n",
       "435       float64\n",
       "           ...   \n",
       "880        object\n",
       "885        object\n",
       "890       float64\n",
       "895         int64\n",
       "ROI        object\n",
       "Length: 98, dtype: object"
      ]
     },
     "execution_count": 79,
     "metadata": {},
     "output_type": "execute_result"
    }
   ],
   "source": [
    "df.dtypes"
   ]
  },
  {
   "cell_type": "code",
   "execution_count": 82,
   "id": "cdafb2bf",
   "metadata": {},
   "outputs": [
    {
     "name": "stderr",
     "output_type": "stream",
     "text": [
      "C:\\Users\\h337\\AppData\\Local\\Temp/ipykernel_27384/790946881.py:3: FutureWarning: In a future version, `df.iloc[:, i] = newvals` will attempt to set the values inplace instead of always setting a new array. To retain the old behavior, use either `df[df.columns[i]] = newvals` or, if columns are non-unique, `df.isetitem(i, newvals)`\n",
      "  df.loc[:,df.columns[i]] = df.loc[:,df.columns[i]].astype(float)\n"
     ]
    },
    {
     "data": {
      "text/plain": [
       "Tray        int64\n",
       "File X      int64\n",
       "File Y      int64\n",
       "430       float64\n",
       "435       float64\n",
       "           ...   \n",
       "880       float64\n",
       "885       float64\n",
       "890       float64\n",
       "895       float64\n",
       "ROI        object\n",
       "Length: 98, dtype: object"
      ]
     },
     "execution_count": 82,
     "metadata": {},
     "output_type": "execute_result"
    }
   ],
   "source": [
    "for i in range(3,97):\n",
    "    try:\n",
    "        df.loc[:,df.columns[i]] = df.loc[:,df.columns[i]].astype(float)\n",
    "    except ValueError as ve:\n",
    "        print(df.columns[i])\n",
    "df.dtypes\n"
   ]
  },
  {
   "cell_type": "code",
   "execution_count": null,
   "id": "f6432362",
   "metadata": {},
   "outputs": [],
   "source": [
    "\n",
    "blue = blue.drop(columns = ['ROI name'])"
   ]
  },
  {
   "cell_type": "code",
   "execution_count": 40,
   "id": "f8f8c37f",
   "metadata": {},
   "outputs": [
    {
     "data": {
      "text/plain": [
       "Index(['430', '435', '440', '445', '450', '455', '460', '465', '470', '475',\n",
       "       '480', '485', '490', '495', '500', '505', '510', '515', '520', '525',\n",
       "       '530', '535', '540', '545', '550', '555', '560', '565', '570', '575',\n",
       "       '580', '585', '590', '595', '600', '605', '610', '615', '620', '625',\n",
       "       '630', '635', '640', '645', '650', '655', '660', '665', '670', '675',\n",
       "       '680', '685', '690', '695', '700', '705', '710', '715', '720', '725',\n",
       "       '730', '735', '740', '745', '750', '755', '760', '765', '770', '775',\n",
       "       '780', '785', '790', '795', '800', '805', '810', '815', '820', '825',\n",
       "       '830', '835', '840', '845', '850', '855', '860', '865', '870', '875',\n",
       "       '880', '885', '890', '895'],\n",
       "      dtype='object')"
      ]
     },
     "execution_count": 40,
     "metadata": {},
     "output_type": "execute_result"
    }
   ],
   "source": [
    "# popisky do grafu\n",
    "labs = df.columns[4:]\n",
    "labs"
   ]
  },
  {
   "cell_type": "code",
   "execution_count": 48,
   "id": "9fe8662c",
   "metadata": {},
   "outputs": [],
   "source": [
    "import seaborn as sns\n",
    "import matplotlib.pyplot as plt\n",
    "import matplotlib as mpl\n",
    "import numpy as np\n",
    "import statistics as stat"
   ]
  },
  {
   "cell_type": "code",
   "execution_count": 77,
   "id": "a3053f34",
   "metadata": {},
   "outputs": [
    {
     "data": {
      "text/plain": [
       "[0.502162317,\n",
       " 0.554445678,\n",
       " 0.610840698,\n",
       " 0.649735171,\n",
       " 0.675518536,\n",
       " 0.67862068,\n",
       " 0.681241952,\n",
       " 0.678911654,\n",
       " 0.671666449,\n",
       " 0.650447864,\n",
       " 0.629803082,\n",
       " 0.60494884,\n",
       " 0.574069955,\n",
       " 0.552096732,\n",
       " 0.520876877,\n",
       " 0.489794436,\n",
       " 0.46079173,\n",
       " 0.422435921,\n",
       " 0.396030836,\n",
       " 0.370839423,\n",
       " 0.345151543,\n",
       " 0.328307719,\n",
       " 0.311063641,\n",
       " 0.300194013,\n",
       " 0.291568826,\n",
       " 0.282205675,\n",
       " 0.276420416,\n",
       " 0.272642501,\n",
       " 0.268919327,\n",
       " 0.267289696,\n",
       " 0.265996951,\n",
       " 0.264889331,\n",
       " 0.26508173,\n",
       " 0.264620838,\n",
       " 0.264590965,\n",
       " 0.264936362,\n",
       " 0.265176276,\n",
       " 0.266345023,\n",
       " 0.26768206,\n",
       " 0.268256522,\n",
       " 0.268983479,\n",
       " 0.270540828,\n",
       " 0.271517454,\n",
       " 0.272062479,\n",
       " 0.273839684,\n",
       " 0.274965357,\n",
       " 0.276200944,\n",
       " 0.276459976,\n",
       " 0.276004509,\n",
       " 0.275904937,\n",
       " 0.276051962,\n",
       " 0.276157534,\n",
       " 0.276337168,\n",
       " 0.276246601,\n",
       " 0.277331137,\n",
       " 0.279163673,\n",
       " 0.281870926,\n",
       " 0.286565368,\n",
       " 0.291513442,\n",
       " 0.296972336,\n",
       " 0.303796604,\n",
       " 0.310579705,\n",
       " 0.32242084,\n",
       " 0.337212468,\n",
       " 0.366124436,\n",
       " 0.404662638,\n",
       " 0.460047038,\n",
       " 0.551156816,\n",
       " 0.629367617,\n",
       " 0.706185055,\n",
       " 0.790800559,\n",
       " 0.843803999,\n",
       " 0.893565517,\n",
       " 0.923203977,\n",
       " 0.946144875,\n",
       " 0.970253125,\n",
       " 0.984466822,\n",
       " 1.000656042,\n",
       " 1.016967195,\n",
       " 1.027509479,\n",
       " 1.034922697,\n",
       " 1.039584719,\n",
       " 1.039818248,\n",
       " 1.040486883,\n",
       " 1.038705738,\n",
       " 1.03555882,\n",
       " 1.030147298,\n",
       " 1.02913392,\n",
       " 1.025709031,\n",
       " 1.022014049,\n",
       " 1.0191462,\n",
       " 1.013190779,\n",
       " 1.008762565]"
      ]
     },
     "execution_count": 77,
     "metadata": {},
     "output_type": "execute_result"
    }
   ],
   "source": [
    "med = []\n",
    "for i in range(len(labs)-1):\n",
    "    med.insert(i,stat.median(blue[labs[i]]))\n",
    "med"
   ]
  },
  {
   "cell_type": "code",
   "execution_count": 70,
   "id": "adca79d4",
   "metadata": {},
   "outputs": [
    {
     "ename": "TypeError",
     "evalue": "'<' not supported between instances of 'float' and 'str'",
     "output_type": "error",
     "traceback": [
      "\u001b[1;31m---------------------------------------------------------------------------\u001b[0m",
      "\u001b[1;31mTypeError\u001b[0m                                 Traceback (most recent call last)",
      "\u001b[1;32m~\\AppData\\Local\\Temp/ipykernel_12208/2925747809.py\u001b[0m in \u001b[0;36m<module>\u001b[1;34m\u001b[0m\n\u001b[1;32m----> 1\u001b[1;33m \u001b[0mstat\u001b[0m\u001b[1;33m.\u001b[0m\u001b[0mmedian\u001b[0m\u001b[1;33m(\u001b[0m\u001b[0mblue\u001b[0m\u001b[1;33m[\u001b[0m\u001b[0mlabs\u001b[0m\u001b[1;33m[\u001b[0m\u001b[1;36m2\u001b[0m\u001b[1;33m]\u001b[0m\u001b[1;33m]\u001b[0m\u001b[1;33m)\u001b[0m\u001b[1;33m\u001b[0m\u001b[1;33m\u001b[0m\u001b[0m\n\u001b[0m",
      "\u001b[1;32m~\\AppData\\Local\\Programs\\Python\\Python39\\lib\\statistics.py\u001b[0m in \u001b[0;36mmedian\u001b[1;34m(data)\u001b[0m\n\u001b[0;32m    425\u001b[0m \u001b[1;33m\u001b[0m\u001b[0m\n\u001b[0;32m    426\u001b[0m     \"\"\"\n\u001b[1;32m--> 427\u001b[1;33m     \u001b[0mdata\u001b[0m \u001b[1;33m=\u001b[0m \u001b[0msorted\u001b[0m\u001b[1;33m(\u001b[0m\u001b[0mdata\u001b[0m\u001b[1;33m)\u001b[0m\u001b[1;33m\u001b[0m\u001b[1;33m\u001b[0m\u001b[0m\n\u001b[0m\u001b[0;32m    428\u001b[0m     \u001b[0mn\u001b[0m \u001b[1;33m=\u001b[0m \u001b[0mlen\u001b[0m\u001b[1;33m(\u001b[0m\u001b[0mdata\u001b[0m\u001b[1;33m)\u001b[0m\u001b[1;33m\u001b[0m\u001b[1;33m\u001b[0m\u001b[0m\n\u001b[0;32m    429\u001b[0m     \u001b[1;32mif\u001b[0m \u001b[0mn\u001b[0m \u001b[1;33m==\u001b[0m \u001b[1;36m0\u001b[0m\u001b[1;33m:\u001b[0m\u001b[1;33m\u001b[0m\u001b[1;33m\u001b[0m\u001b[0m\n",
      "\u001b[1;31mTypeError\u001b[0m: '<' not supported between instances of 'float' and 'str'"
     ]
    }
   ],
   "source": [
    "stat.median(blue[labs[2]])"
   ]
  },
  {
   "cell_type": "code",
   "execution_count": null,
   "id": "1d95102b",
   "metadata": {},
   "outputs": [],
   "source": [
    "blue = blue.drop(columns = ['ROI name'])"
   ]
  },
  {
   "cell_type": "code",
   "execution_count": 74,
   "id": "8c1621aa",
   "metadata": {},
   "outputs": [],
   "source": [
    "blue = blue.astype(float)"
   ]
  },
  {
   "cell_type": "code",
   "execution_count": 75,
   "id": "949cfdfd",
   "metadata": {},
   "outputs": [
    {
     "data": {
      "text/plain": [
       "Tray      float64\n",
       "File X    float64\n",
       "File Y    float64\n",
       "430       float64\n",
       "435       float64\n",
       "           ...   \n",
       "875       float64\n",
       "880       float64\n",
       "885       float64\n",
       "890       float64\n",
       "895       float64\n",
       "Length: 97, dtype: object"
      ]
     },
     "execution_count": 75,
     "metadata": {},
     "output_type": "execute_result"
    }
   ],
   "source": [
    "blue.dtypes"
   ]
  }
 ],
 "metadata": {
  "kernelspec": {
   "display_name": "Python 3.9.7 64-bit",
   "language": "python",
   "name": "python3"
  },
  "language_info": {
   "codemirror_mode": {
    "name": "ipython",
    "version": 3
   },
   "file_extension": ".py",
   "mimetype": "text/x-python",
   "name": "python",
   "nbconvert_exporter": "python",
   "pygments_lexer": "ipython3",
   "version": "3.9.7"
  },
  "vscode": {
   "interpreter": {
    "hash": "507f6de8b01e3c7121666f7a2099dbd2f3f361c174152a34790d4dc36833fd74"
   }
  }
 },
 "nbformat": 4,
 "nbformat_minor": 5
}
